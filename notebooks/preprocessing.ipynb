{
 "cells": [
  {
   "cell_type": "code",
   "execution_count": 1,
   "id": "477019a4",
   "metadata": {},
   "outputs": [
    {
     "name": "stderr",
     "output_type": "stream",
     "text": [
      "c:\\Users\\Admin\\OneDrive\\Desktop\\GENAI\\NLP_mpr\\venv\\lib\\site-packages\\tqdm\\auto.py:21: TqdmWarning: IProgress not found. Please update jupyter and ipywidgets. See https://ipywidgets.readthedocs.io/en/stable/user_install.html\n",
      "  from .autonotebook import tqdm as notebook_tqdm\n"
     ]
    }
   ],
   "source": [
    "import pandas as pd\n",
    "from datasets import Dataset, DatasetDict\n",
    "import nltk\n",
    "from nltk.stem import WordNetLemmatizer\n",
    "from nltk.corpus import wordnet\n",
    "from nltk.tokenize import sent_tokenize, word_tokenize\n",
    "import matplotlib.pyplot as plt"
   ]
  },
  {
   "cell_type": "code",
   "execution_count": 3,
   "id": "fe0923cc",
   "metadata": {},
   "outputs": [
    {
     "name": "stdout",
     "output_type": "stream",
     "text": [
      "Downloading NLTK resources (punkt, averaged_perceptron_tagger, wordnet)...\n",
      "NLTK resources downloaded.\n"
     ]
    }
   ],
   "source": [
    "print(\"Downloading NLTK resources (punkt, averaged_perceptron_tagger, wordnet)...\")\n",
    "nltk.download('punkt', quiet=True)\n",
    "nltk.download('averaged_perceptron_tagger', quiet=True)\n",
    "nltk.download('wordnet', quiet=True)\n",
    "print(\"NLTK resources downloaded.\")"
   ]
  },
  {
   "cell_type": "code",
   "execution_count": 4,
   "id": "583ecb04",
   "metadata": {},
   "outputs": [],
   "source": [
    "lemmatizer = WordNetLemmatizer()"
   ]
  },
  {
   "cell_type": "code",
   "execution_count": 5,
   "id": "e7aed941",
   "metadata": {},
   "outputs": [],
   "source": [
    "def get_wordnet_pos(treebank_tag):\n",
    "    \"\"\"Converts treebank POS tags to WordNet tags for lemmatization.\"\"\"\n",
    "    if treebank_tag.startswith('J'):\n",
    "        return wordnet.ADJ\n",
    "    elif treebank_tag.startswith('V'):\n",
    "        return wordnet.VERB\n",
    "    elif treebank_tag.startswith('N'):\n",
    "        return wordnet.NOUN\n",
    "    elif treebank_tag.startswith('R'):\n",
    "        return wordnet.ADV\n",
    "    else:\n",
    "        return wordnet.NOUN # Default to noun"
   ]
  },
  {
   "cell_type": "code",
   "execution_count": 6,
   "metadata": {},
   "outputs": [],
   "source": [
    "def demonstrate_traditional_nlp_steps(text):\n",
    "    \"\"\"\n",
    "    Applies and prints the output of 5 traditional NLP steps on a sample text.\n",
    "    \"\"\"\n",
    "    print(f\"\\n--- Demonstrating 5 Steps on Sample Text ---\\nOriginal Text: '{text}'\\n\")\n",
    "\n",
    "    # 1. Sentence Boundary Identification\n",
    "    sentences = sent_tokenize(text)\n",
    "    print(f\"1. Sentence Identification:\\n   {sentences}\\n\")\n",
    "\n",
    "    # We'll process the first sentence for the remaining steps\n",
    "    first_sentence = sentences[0]\n",
    "\n",
    "    # 2. Tokenization (Word Tokenization)\n",
    "    tokens = word_tokenize(first_sentence)\n",
    "    print(f\"2. Word Tokenization:\\n   {tokens}\\n\")\n",
    "\n",
    "    # 3. Syntactic Analysis (Part-of-Speech Tagging)\n",
    "    pos_tags = nltk.pos_tag(tokens)\n",
    "    print(f\"3. Syntactic Analysis (POS Tagging):\\n   {pos_tags}\\n\")\n",
    "\n",
    "    # 4. Lemmatization (requires POS tags for accuracy)\n",
    "    lemmatized_tokens = []\n",
    "    for word, tag in pos_tags:\n",
    "        wordnet_pos = get_wordnet_pos(tag)\n",
    "        lemma = lemmatizer.lemmatize(word, pos=wordnet_pos)\n",
    "        lemmatized_tokens.append(lemma)\n",
    "    print(f\"4. Lemmatization (context-aware):\\n   {lemmatized_tokens}\\n\")\n",
    "\n",
    "    # 5. Semantic Analysis (WordNet Synonyms)\n",
    "    # Let's find synonyms for the first noun found in the sentence\n",
    "    first_noun = None\n",
    "    for word, tag in pos_tags:\n",
    "        if tag.startswith('NN'):\n",
    "            first_noun = word\n",
    "            break\n",
    "    \n",
    "    if first_noun:\n",
    "        synonyms = []\n",
    "        for syn in wordnet.synsets(first_noun):\n",
    "            for lemma in syn.lemmas():\n",
    "                if lemma.name() not in synonyms:\n",
    "                    synonyms.append(lemma.name())\n",
    "        print(f\"5. Semantic Analysis (Synonyms for '{first_noun}' using WordNet):\\n   {synonyms[:5]} ...\\n\")\n",
    "    else:\n",
    "        print(\"5. Semantic Analysis: No noun found to demonstrate synonym lookup.\\n\")\n"
   ]
  },
  {
   "cell_type": "code",
   "execution_count": 9,
   "id": "fc0073d1",
   "metadata": {},
   "outputs": [
    {
     "name": "stderr",
     "output_type": "stream",
     "text": [
      "[nltk_data] Downloading package averaged_perceptron_tagger_eng to\n",
      "[nltk_data]     C:\\Users\\Admin\\AppData\\Roaming\\nltk_data...\n",
      "[nltk_data]   Unzipping taggers\\averaged_perceptron_tagger_eng.zip.\n"
     ]
    },
    {
     "data": {
      "text/plain": [
       "True"
      ]
     },
     "execution_count": 9,
     "metadata": {},
     "output_type": "execute_result"
    }
   ],
   "source": [
    "nltk.download('averaged_perceptron_tagger_eng')"
   ]
  },
  {
   "cell_type": "code",
   "execution_count": 10,
   "id": "20033824",
   "metadata": {},
   "outputs": [
    {
     "name": "stdout",
     "output_type": "stream",
     "text": [
      "\n",
      "--- Demonstrating 5 Steps on Sample Text ---\n",
      "Original Text: 'My credit cards are not working and the app crashes frequently.'\n",
      "\n",
      "1. Sentence Identification:\n",
      "   ['My credit cards are not working and the app crashes frequently.']\n",
      "\n",
      "2. Word Tokenization:\n",
      "   ['My', 'credit', 'cards', 'are', 'not', 'working', 'and', 'the', 'app', 'crashes', 'frequently', '.']\n",
      "\n",
      "3. Syntactic Analysis (POS Tagging):\n",
      "   [('My', 'PRP$'), ('credit', 'NN'), ('cards', 'NNS'), ('are', 'VBP'), ('not', 'RB'), ('working', 'VBG'), ('and', 'CC'), ('the', 'DT'), ('app', 'NN'), ('crashes', 'NNS'), ('frequently', 'RB'), ('.', '.')]\n",
      "\n",
      "4. Lemmatization (context-aware):\n",
      "   ['My', 'credit', 'card', 'be', 'not', 'work', 'and', 'the', 'app', 'crash', 'frequently', '.']\n",
      "\n",
      "5. Semantic Analysis (Synonyms for 'credit' using WordNet):\n",
      "   ['recognition', 'credit', 'credit_entry', 'deferred_payment', 'course_credit'] ...\n",
      "\n",
      "\n",
      "--- Proceeding with the original script for dataset preparation ---\n",
      "\n",
      "Successfully loaded data from local CSVs.\n",
      "DatasetDict({\n",
      "    train: Dataset({\n",
      "        features: ['text', 'category'],\n",
      "        num_rows: 10003\n",
      "    })\n",
      "    test: Dataset({\n",
      "        features: ['text', 'category'],\n",
      "        num_rows: 3080\n",
      "    })\n",
      "})\n"
     ]
    }
   ],
   "source": [
    "\n",
    "\"\"\"\n",
    "Main function to run the data loading and preprocessing.\n",
    "\"\"\"\n",
    "# --- For Demonstration Purposes ---\n",
    "sample_text = \"My credit cards are not working and the app crashes frequently.\"\n",
    "demonstrate_traditional_nlp_steps(sample_text)\n",
    "\n",
    "# --- The rest of your script for processing the actual dataset ---\n",
    "# NOTE: Applying these steps to the full dataset would be very slow and is\n",
    "#       not recommended for training the final transformer model. This is\n",
    "#       primarily for fulfilling the documentation requirement.\n",
    "\n",
    "print(\"\\n--- Proceeding with the original script for dataset preparation ---\")\n",
    "\n",
    "# This section is your original script, which correctly prepares the data for DistilBERT\n",
    "# We will not apply the traditional steps to the whole dataset here.\n",
    "\n",
    "# --- Load Data from CSV (your original code) ---\n",
    "try:\n",
    "    train_df = pd.read_csv(\"dataset/train.csv\")\n",
    "    test_df = pd.read_csv(\"dataset/test.csv\")\n",
    "except FileNotFoundError:\n",
    "    print(\"\\nERROR: Could not find 'train.csv' or 'test.csv'.\")\n",
    "    \n",
    "\n",
    "train_dataset = Dataset.from_pandas(train_df)\n",
    "test_dataset = Dataset.from_pandas(test_df)\n",
    "raw_datasets = DatasetDict({'train': train_dataset, 'test': test_dataset})\n",
    "print(\"\\nSuccessfully loaded data from local CSVs.\")\n",
    "print(raw_datasets)\n"
   ]
  },
  {
   "cell_type": "code",
   "execution_count": 12,
   "id": "928a7221",
   "metadata": {},
   "outputs": [],
   "source": [
    "# Define the same category map from Phase 1\n",
    "category_map = {\n",
    "    'activate_my_card': 'Billing Question','card_payment_fee_charged': 'Billing Question','card_payment_not_recognised': 'Billing Question','card_payment_wrong_exchange_rate': 'Billing Question','cash_withdrawal_charge': 'Billing Question','cash_withdrawal_not_recognised': 'Billing Question','exchange_charge': 'Billing Question','exchange_rate': 'Billing Question','exchange_via_app': 'Billing Question','fee_applied': 'Billing Question','fiat_currency_support': 'Billing Question','pending_card_payment': 'Billing Question','pending_cash_withdrawal': 'Billing Question','pending_top_up': 'Billing Question','pending_transfer': 'Billing Question','top_up_by_bank_transfer_charge': 'Billing Question','top_up_by_card_charge': 'Billing Question','top_up_failed': 'Billing Question','top_up_limits': 'Billing Question','top_up_reverted': 'Billing Question','transaction_charged_twice': 'Billing Question','transfer_fee_charged': 'Billing Question','beneficiary_not_allowed': 'Billing Question','card_arrival': 'Billing Question','card_delivery_estimate': 'Billing Question','card_linking': 'Billing Question','card_not_working': 'Billing Question','decline_card_payment': 'Billing Question','declined_cash_withdrawal': 'Billing Question','declined_transfer': 'Billing Question','direct_debit_payment_not_recognised': 'Billing Question','failed_transfer': 'Billing Question','topping_up_by_card': 'Billing Question','transfer_not_received_by_recipient': 'Billing Question','transfer_timing': 'Billing Question','wrong_amount_of_cash_received': 'Billing Question','wrong_exchange_rate_for_cash_withdrawal': 'Billing Question','cancel_transfer': 'Billing Question','request_refund': 'Billing Question',\n",
    "    'app_does_not_work': 'Technical Issue','face_id_not_working': 'Technical Issue','fingerprint_not_working': 'Technical Issue','passcode_forgotten': 'Technical Issue','pin_blocked': 'Technical Issue','unable_to_verify_identity': 'Technical Issue','verify_my_identity': 'Technical Issue','getting_physical_card': 'Technical Issue',\n",
    "    'ATMs_support': 'General Inquiry','account_blocked': 'General Inquiry','age_limit': 'General Inquiry','apple_pay_or_google_pay': 'General Inquiry','atm_support': 'General Inquiry','automatic_top_up': 'General Inquiry','balance_not_updated_after_bank_transfer': 'General Inquiry','balance_not_updated_after_cheque_or_cash_deposit': 'General Inquiry','card_about_to_expire': 'General Inquiry','card_acceptance': 'General Inquiry','card_swallowed': 'General Inquiry','change_pin': 'General Inquiry','contactless_not_working': 'General Inquiry','country_support': 'General Inquiry','disposable_card_limits': 'General Inquiry','edit_personal_details': 'General Inquiry','get_disposable_virtual_card': 'General Inquiry','get_physical_card': 'General Inquiry','getting_spare_card': 'General Inquiry','how_do_I_report_fraud': 'General Inquiry','lost_or_stolen_card': 'General Inquiry','lost_or_stolen_phone': 'General Inquiry','order_physical_card': 'General Inquiry','supported_cards_and_currencies': 'General Inquiry','verify_source_of_funds': 'General Inquiry','verify_top_up': 'General Inquiry','virtual_card_not_working': 'General Inquiry','what_are_my_limits': 'General Inquiry','what_is_a_disposable_virtual_card': 'General Inquiry','what_is_my_pin': 'General Inquiry','why_verify_identity': 'General Inquiry','terminate_account': 'General Inquiry'\n",
    "}"
   ]
  },
  {
   "cell_type": "code",
   "execution_count": 13,
   "id": "1486f87a",
   "metadata": {},
   "outputs": [],
   "source": [
    "# Define our new labels and create mappings for label encoding\n",
    "new_labels = ['Billing Question', 'Technical Issue', 'General Inquiry']\n",
    "label2id = {label: i for i, label in enumerate(new_labels)}\n",
    "id2label = {i: label for i, label in enumerate(new_labels)}"
   ]
  },
  {
   "cell_type": "code",
   "execution_count": 14,
   "id": "65314217",
   "metadata": {},
   "outputs": [],
   "source": [
    "def remap_labels_from_csv(example):\n",
    "    # The CSV has a 'category' column with text labels\n",
    "    original_label_name = example['category']\n",
    "    new_label_name = category_map.get(original_label_name, \"Unmapped\")\n",
    "    example['label'] = label2id.get(new_label_name)\n",
    "    return example"
   ]
  },
  {
   "cell_type": "code",
   "execution_count": 15,
   "id": "82ec7a80",
   "metadata": {},
   "outputs": [
    {
     "name": "stderr",
     "output_type": "stream",
     "text": [
      "Map: 100%|██████████| 10003/10003 [00:01<00:00, 8743.10 examples/s]\n",
      "Map: 100%|██████████| 3080/3080 [00:00<00:00, 11364.25 examples/s]"
     ]
    },
    {
     "name": "stdout",
     "output_type": "stream",
     "text": [
      "\n",
      "Labels have been successfully remapped to our 3 categories.\n"
     ]
    },
    {
     "name": "stderr",
     "output_type": "stream",
     "text": [
      "\n"
     ]
    }
   ],
   "source": [
    "processed_datasets = raw_datasets.map(remap_labels_from_csv, remove_columns=['category'])\n",
    "print(\"\\nLabels have been successfully remapped to our 3 categories.\")"
   ]
  },
  {
   "cell_type": "code",
   "execution_count": 16,
   "id": "629e814a",
   "metadata": {},
   "outputs": [
    {
     "name": "stdout",
     "output_type": "stream",
     "text": [
      "\n",
      "--- 2. Analyzing Category Distribution ---\n",
      "Distribution of new categories in the training set:\n",
      "label\n",
      "Billing Question    5422\n",
      "Technical Issue      426\n",
      "General Inquiry     2872\n",
      "Name: count, dtype: int64\n"
     ]
    },
    {
     "data": {
      "image/png": "[encoded data removed]",
      "text/plain": [
       "<Figure size 640x480 with 1 Axes>"
      ]
     },
     "metadata": {},
     "output_type": "display_data"
    }
   ],
   "source": [
    "print(\"\\n--- 2. Analyzing Category Distribution ---\")\n",
    "# This part remains the same\n",
    "train_df_processed = pd.DataFrame(processed_datasets['train'])\n",
    "label_counts = train_df_processed['label'].value_counts().sort_index()\n",
    "label_counts.index = label_counts.index.map(lambda i: id2label[i])\n",
    "print(\"Distribution of new categories in the training set:\")\n",
    "print(label_counts)\n",
    "label_counts.plot(kind='bar', title='Category Distribution')\n",
    "plt.ylabel('Number of Tickets')\n",
    "plt.xticks(rotation=45)\n",
    "plt.tight_layout()\n",
    "plt.show()"
   ]
  },
  {
   "cell_type": "code",
   "execution_count": 17,
   "id": "f6da7e35",
   "metadata": {},
   "outputs": [],
   "source": [
    "from transformers import AutoTokenizer"
   ]
  },
  {
   "cell_type": "code",
   "execution_count": 18,
   "id": "1d6284b8",
   "metadata": {},
   "outputs": [
    {
     "name": "stdout",
     "output_type": "stream",
     "text": [
      "\n",
      "--- 3. Tokenizing the Dataset ---\n"
     ]
    }
   ],
   "source": [
    "print(\"\\n--- 3. Tokenizing the Dataset ---\")\n",
    "# This part also remains the same\n",
    "model_checkpoint = \"distilbert-base-uncased\"\n",
    "tokenizer = AutoTokenizer.from_pretrained(model_checkpoint)"
   ]
  },
  {
   "cell_type": "code",
   "execution_count": 19,
   "id": "006e55db",
   "metadata": {},
   "outputs": [],
   "source": [
    "def tokenize_function(examples):\n",
    "        return tokenizer(examples[\"text\"], truncation=True, padding=\"max_length\")"
   ]
  },
  {
   "cell_type": "code",
   "execution_count": 20,
   "id": "e83bffde",
   "metadata": {},
   "outputs": [
    {
     "name": "stderr",
     "output_type": "stream",
     "text": [
      "Map: 100%|██████████| 10003/10003 [00:03<00:00, 3114.72 examples/s]\n",
      "Map: 100%|██████████| 3080/3080 [00:00<00:00, 3382.99 examples/s]\n"
     ]
    }
   ],
   "source": [
    "tokenized_datasets = processed_datasets.map(tokenize_function, batched=True)\n",
    "tokenized_datasets = tokenized_datasets.remove_columns([\"text\"])\n",
    "tokenized_datasets = tokenized_datasets.rename_column(\"label\", \"labels\")\n",
    "tokenized_datasets.set_format(\"torch\")"
   ]
  },
  {
   "cell_type": "code",
   "execution_count": 21,
   "id": "87926a39",
   "metadata": {},
   "outputs": [
    {
     "name": "stdout",
     "output_type": "stream",
     "text": [
      "\n",
      "Dataset tokenized and formatted for training:\n",
      "{'labels': tensor(0), 'input_ids': tensor([ 101, 1045, 2572, 2145, 3403, 2006, 2026, 4003, 1029,  102,    0,    0,\n",
      "           0,    0,    0,    0,    0,    0,    0,    0,    0,    0,    0,    0,\n",
      "           0,    0,    0,    0,    0,    0,    0,    0,    0,    0,    0,    0,\n",
      "           0,    0,    0,    0,    0,    0,    0,    0,    0,    0,    0,    0,\n",
      "           0,    0,    0,    0,    0,    0,    0,    0,    0,    0,    0,    0,\n",
      "           0,    0,    0,    0,    0,    0,    0,    0,    0,    0,    0,    0,\n",
      "           0,    0,    0,    0,    0,    0,    0,    0,    0,    0,    0,    0,\n",
      "           0,    0,    0,    0,    0,    0,    0,    0,    0,    0,    0,    0,\n",
      "           0,    0,    0,    0,    0,    0,    0,    0,    0,    0,    0,    0,\n",
      "           0,    0,    0,    0,    0,    0,    0,    0,    0,    0,    0,    0,\n",
      "           0,    0,    0,    0,    0,    0,    0,    0,    0,    0,    0,    0,\n",
      "           0,    0,    0,    0,    0,    0,    0,    0,    0,    0,    0,    0,\n",
      "           0,    0,    0,    0,    0,    0,    0,    0,    0,    0,    0,    0,\n",
      "           0,    0,    0,    0,    0,    0,    0,    0,    0,    0,    0,    0,\n",
      "           0,    0,    0,    0,    0,    0,    0,    0,    0,    0,    0,    0,\n",
      "           0,    0,    0,    0,    0,    0,    0,    0,    0,    0,    0,    0,\n",
      "           0,    0,    0,    0,    0,    0,    0,    0,    0,    0,    0,    0,\n",
      "           0,    0,    0,    0,    0,    0,    0,    0,    0,    0,    0,    0,\n",
      "           0,    0,    0,    0,    0,    0,    0,    0,    0,    0,    0,    0,\n",
      "           0,    0,    0,    0,    0,    0,    0,    0,    0,    0,    0,    0,\n",
      "           0,    0,    0,    0,    0,    0,    0,    0,    0,    0,    0,    0,\n",
      "           0,    0,    0,    0,    0,    0,    0,    0,    0,    0,    0,    0,\n",
      "           0,    0,    0,    0,    0,    0,    0,    0,    0,    0,    0,    0,\n",
      "           0,    0,    0,    0,    0,    0,    0,    0,    0,    0,    0,    0,\n",
      "           0,    0,    0,    0,    0,    0,    0,    0,    0,    0,    0,    0,\n",
      "           0,    0,    0,    0,    0,    0,    0,    0,    0,    0,    0,    0,\n",
      "           0,    0,    0,    0,    0,    0,    0,    0,    0,    0,    0,    0,\n",
      "           0,    0,    0,    0,    0,    0,    0,    0,    0,    0,    0,    0,\n",
      "           0,    0,    0,    0,    0,    0,    0,    0,    0,    0,    0,    0,\n",
      "           0,    0,    0,    0,    0,    0,    0,    0,    0,    0,    0,    0,\n",
      "           0,    0,    0,    0,    0,    0,    0,    0,    0,    0,    0,    0,\n",
      "           0,    0,    0,    0,    0,    0,    0,    0,    0,    0,    0,    0,\n",
      "           0,    0,    0,    0,    0,    0,    0,    0,    0,    0,    0,    0,\n",
      "           0,    0,    0,    0,    0,    0,    0,    0,    0,    0,    0,    0,\n",
      "           0,    0,    0,    0,    0,    0,    0,    0,    0,    0,    0,    0,\n",
      "           0,    0,    0,    0,    0,    0,    0,    0,    0,    0,    0,    0,\n",
      "           0,    0,    0,    0,    0,    0,    0,    0,    0,    0,    0,    0,\n",
      "           0,    0,    0,    0,    0,    0,    0,    0,    0,    0,    0,    0,\n",
      "           0,    0,    0,    0,    0,    0,    0,    0,    0,    0,    0,    0,\n",
      "           0,    0,    0,    0,    0,    0,    0,    0,    0,    0,    0,    0,\n",
      "           0,    0,    0,    0,    0,    0,    0,    0,    0,    0,    0,    0,\n",
      "           0,    0,    0,    0,    0,    0,    0,    0,    0,    0,    0,    0,\n",
      "           0,    0,    0,    0,    0,    0,    0,    0]), 'attention_mask': tensor([1, 1, 1, 1, 1, 1, 1, 1, 1, 1, 0, 0, 0, 0, 0, 0, 0, 0, 0, 0, 0, 0, 0, 0,\n",
      "        0, 0, 0, 0, 0, 0, 0, 0, 0, 0, 0, 0, 0, 0, 0, 0, 0, 0, 0, 0, 0, 0, 0, 0,\n",
      "        0, 0, 0, 0, 0, 0, 0, 0, 0, 0, 0, 0, 0, 0, 0, 0, 0, 0, 0, 0, 0, 0, 0, 0,\n",
      "        0, 0, 0, 0, 0, 0, 0, 0, 0, 0, 0, 0, 0, 0, 0, 0, 0, 0, 0, 0, 0, 0, 0, 0,\n",
      "        0, 0, 0, 0, 0, 0, 0, 0, 0, 0, 0, 0, 0, 0, 0, 0, 0, 0, 0, 0, 0, 0, 0, 0,\n",
      "        0, 0, 0, 0, 0, 0, 0, 0, 0, 0, 0, 0, 0, 0, 0, 0, 0, 0, 0, 0, 0, 0, 0, 0,\n",
      "        0, 0, 0, 0, 0, 0, 0, 0, 0, 0, 0, 0, 0, 0, 0, 0, 0, 0, 0, 0, 0, 0, 0, 0,\n",
      "        0, 0, 0, 0, 0, 0, 0, 0, 0, 0, 0, 0, 0, 0, 0, 0, 0, 0, 0, 0, 0, 0, 0, 0,\n",
      "        0, 0, 0, 0, 0, 0, 0, 0, 0, 0, 0, 0, 0, 0, 0, 0, 0, 0, 0, 0, 0, 0, 0, 0,\n",
      "        0, 0, 0, 0, 0, 0, 0, 0, 0, 0, 0, 0, 0, 0, 0, 0, 0, 0, 0, 0, 0, 0, 0, 0,\n",
      "        0, 0, 0, 0, 0, 0, 0, 0, 0, 0, 0, 0, 0, 0, 0, 0, 0, 0, 0, 0, 0, 0, 0, 0,\n",
      "        0, 0, 0, 0, 0, 0, 0, 0, 0, 0, 0, 0, 0, 0, 0, 0, 0, 0, 0, 0, 0, 0, 0, 0,\n",
      "        0, 0, 0, 0, 0, 0, 0, 0, 0, 0, 0, 0, 0, 0, 0, 0, 0, 0, 0, 0, 0, 0, 0, 0,\n",
      "        0, 0, 0, 0, 0, 0, 0, 0, 0, 0, 0, 0, 0, 0, 0, 0, 0, 0, 0, 0, 0, 0, 0, 0,\n",
      "        0, 0, 0, 0, 0, 0, 0, 0, 0, 0, 0, 0, 0, 0, 0, 0, 0, 0, 0, 0, 0, 0, 0, 0,\n",
      "        0, 0, 0, 0, 0, 0, 0, 0, 0, 0, 0, 0, 0, 0, 0, 0, 0, 0, 0, 0, 0, 0, 0, 0,\n",
      "        0, 0, 0, 0, 0, 0, 0, 0, 0, 0, 0, 0, 0, 0, 0, 0, 0, 0, 0, 0, 0, 0, 0, 0,\n",
      "        0, 0, 0, 0, 0, 0, 0, 0, 0, 0, 0, 0, 0, 0, 0, 0, 0, 0, 0, 0, 0, 0, 0, 0,\n",
      "        0, 0, 0, 0, 0, 0, 0, 0, 0, 0, 0, 0, 0, 0, 0, 0, 0, 0, 0, 0, 0, 0, 0, 0,\n",
      "        0, 0, 0, 0, 0, 0, 0, 0, 0, 0, 0, 0, 0, 0, 0, 0, 0, 0, 0, 0, 0, 0, 0, 0,\n",
      "        0, 0, 0, 0, 0, 0, 0, 0, 0, 0, 0, 0, 0, 0, 0, 0, 0, 0, 0, 0, 0, 0, 0, 0,\n",
      "        0, 0, 0, 0, 0, 0, 0, 0])}\n",
      "\n",
      "--- 4. Saving Processed Dataset ---\n",
      "\n",
      "Processed dataset saved to the 'banking77-processed' directory.\n",
      "\n",
      "Phase 2 is complete! We are now ready for model training.\n"
     ]
    }
   ],
   "source": [
    "print(\"\\nDataset tokenized and formatted for training:\")\n",
    "print(tokenized_datasets[\"train\"][0])\n",
    "\n",
    "\n",
    "print(\"\\n--- 4. Saving Processed Dataset ---\")\n",
    "tokenized_datasets.save_to_disk(\"banking77-processed\")\n",
    "print(\"\\nProcessed dataset saved to the 'banking77-processed' directory.\")\n",
    "print(\"\\nPhase 2 is complete! We are now ready for model training.\")"
   ]
  },
  {
   "cell_type": "code",
   "execution_count": null,
   "id": "1d935da2",
   "metadata": {},
   "outputs": [],
   "source": []
  },
  {
   "cell_type": "code",
   "execution_count": null,
   "id": "d5a07988",
   "metadata": {},
   "outputs": [],
   "source": []
  }
 ],
 "metadata": {
  "kernelspec": {
   "display_name": "Python 3",
   "language": "python",
   "name": "python3"
  },
  "language_info": {
   "codemirror_mode": {
    "name": "ipython",
    "version": 3
   },
   "file_extension": ".py",
   "mimetype": "text/x-python",
   "name": "python",
   "nbconvert_exporter": "python",
   "pygments_lexer": "ipython3",
   "version": "3.10.0"
  }
 },
 "nbformat": 4,
 "nbformat_minor": 5
}
