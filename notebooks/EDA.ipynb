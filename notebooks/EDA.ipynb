{
 "cells": [
  {
   "cell_type": "code",
   "execution_count": 1,
   "id": "2abcc73d",
   "metadata": {},
   "outputs": [],
   "source": [
    "import pandas as pd"
   ]
  },
  {
   "cell_type": "code",
   "execution_count": 4,
   "id": "16841159",
   "metadata": {},
   "outputs": [],
   "source": [
    "df = pd.read_csv(\"dataset/banking.csv\")"
   ]
  },
  {
   "cell_type": "code",
   "execution_count": 5,
   "id": "12ea4b20",
   "metadata": {},
   "outputs": [
    {
     "data": {
      "text/html": [
       "<div>\n",
       "<style scoped>\n",
       "    .dataframe tbody tr th:only-of-type {\n",
       "        vertical-align: middle;\n",
       "    }\n",
       "\n",
       "    .dataframe tbody tr th {\n",
       "        vertical-align: top;\n",
       "    }\n",
       "\n",
       "    .dataframe thead th {\n",
       "        text-align: right;\n",
       "    }\n",
       "</style>\n",
       "<table border=\"1\" class=\"dataframe\">\n",
       "  <thead>\n",
       "    <tr style=\"text-align: right;\">\n",
       "      <th></th>\n",
       "      <th>text</th>\n",
       "      <th>category</th>\n",
       "    </tr>\n",
       "  </thead>\n",
       "  <tbody>\n",
       "    <tr>\n",
       "      <th>0</th>\n",
       "      <td>I am still waiting on my card?</td>\n",
       "      <td>card_arrival</td>\n",
       "    </tr>\n",
       "    <tr>\n",
       "      <th>1</th>\n",
       "      <td>What can I do if my card still hasn't arrived ...</td>\n",
       "      <td>card_arrival</td>\n",
       "    </tr>\n",
       "    <tr>\n",
       "      <th>2</th>\n",
       "      <td>I have been waiting over a week. Is the card s...</td>\n",
       "      <td>card_arrival</td>\n",
       "    </tr>\n",
       "    <tr>\n",
       "      <th>3</th>\n",
       "      <td>Can I track my card while it is in the process...</td>\n",
       "      <td>card_arrival</td>\n",
       "    </tr>\n",
       "    <tr>\n",
       "      <th>4</th>\n",
       "      <td>How do I know if I will get my card, or if it ...</td>\n",
       "      <td>card_arrival</td>\n",
       "    </tr>\n",
       "  </tbody>\n",
       "</table>\n",
       "</div>"
      ],
      "text/plain": [
       "                                                text      category\n",
       "0                     I am still waiting on my card?  card_arrival\n",
       "1  What can I do if my card still hasn't arrived ...  card_arrival\n",
       "2  I have been waiting over a week. Is the card s...  card_arrival\n",
       "3  Can I track my card while it is in the process...  card_arrival\n",
       "4  How do I know if I will get my card, or if it ...  card_arrival"
      ]
     },
     "execution_count": 5,
     "metadata": {},
     "output_type": "execute_result"
    }
   ],
   "source": [
    "df.head()"
   ]
  },
  {
   "cell_type": "code",
   "execution_count": 6,
   "id": "6a84ea8e",
   "metadata": {},
   "outputs": [
    {
     "data": {
      "text/plain": [
       "(13083, 2)"
      ]
     },
     "execution_count": 6,
     "metadata": {},
     "output_type": "execute_result"
    }
   ],
   "source": [
    "df.shape"
   ]
  },
  {
   "cell_type": "code",
   "execution_count": 7,
   "id": "94916a14",
   "metadata": {},
   "outputs": [
    {
     "name": "stdout",
     "output_type": "stream",
     "text": [
      "<class 'pandas.core.frame.DataFrame'>\n",
      "RangeIndex: 13083 entries, 0 to 13082\n",
      "Data columns (total 2 columns):\n",
      " #   Column    Non-Null Count  Dtype \n",
      "---  ------    --------------  ----- \n",
      " 0   text      13083 non-null  object\n",
      " 1   category  13083 non-null  object\n",
      "dtypes: object(2)\n",
      "memory usage: 204.5+ KB\n"
     ]
    }
   ],
   "source": [
    "df.info()"
   ]
  },
  {
   "cell_type": "code",
   "execution_count": null,
   "id": "16878ed6",
   "metadata": {},
   "outputs": [
    {
     "data": {
      "text/plain": [
       "array(['card_arrival', 'card_linking', 'exchange_rate',\n",
       "       'card_payment_wrong_exchange_rate', 'extra_charge_on_statement',\n",
       "       'pending_cash_withdrawal', 'fiat_currency_support',\n",
       "       'card_delivery_estimate', 'automatic_top_up', 'card_not_working',\n",
       "       'exchange_via_app', 'lost_or_stolen_card', 'age_limit',\n",
       "       'pin_blocked', 'contactless_not_working',\n",
       "       'top_up_by_bank_transfer_charge', 'pending_top_up',\n",
       "       'cancel_transfer', 'top_up_limits',\n",
       "       'wrong_amount_of_cash_received', 'card_payment_fee_charged',\n",
       "       'transfer_not_received_by_recipient',\n",
       "       'supported_cards_and_currencies', 'getting_virtual_card',\n",
       "       'card_acceptance', 'top_up_reverted',\n",
       "       'balance_not_updated_after_cheque_or_cash_deposit',\n",
       "       'card_payment_not_recognised', 'edit_personal_details',\n",
       "       'why_verify_identity', 'unable_to_verify_identity',\n",
       "       'get_physical_card', 'visa_or_mastercard', 'topping_up_by_card',\n",
       "       'disposable_card_limits', 'compromised_card', 'atm_support',\n",
       "       'direct_debit_payment_not_recognised', 'passcode_forgotten',\n",
       "       'declined_cash_withdrawal', 'pending_card_payment',\n",
       "       'lost_or_stolen_phone', 'request_refund', 'declined_transfer',\n",
       "       'Refund_not_showing_up', 'declined_card_payment',\n",
       "       'pending_transfer', 'terminate_account', 'card_swallowed',\n",
       "       'transaction_charged_twice', 'verify_source_of_funds',\n",
       "       'transfer_timing', 'reverted_card_payment?', 'change_pin',\n",
       "       'beneficiary_not_allowed', 'transfer_fee_charged',\n",
       "       'receiving_money', 'failed_transfer', 'transfer_into_account',\n",
       "       'verify_top_up', 'getting_spare_card', 'top_up_by_cash_or_cheque',\n",
       "       'order_physical_card', 'virtual_card_not_working',\n",
       "       'wrong_exchange_rate_for_cash_withdrawal',\n",
       "       'get_disposable_virtual_card', 'top_up_failed',\n",
       "       'balance_not_updated_after_bank_transfer',\n",
       "       'cash_withdrawal_not_recognised', 'exchange_charge',\n",
       "       'top_up_by_card_charge', 'activate_my_card',\n",
       "       'cash_withdrawal_charge', 'card_about_to_expire',\n",
       "       'apple_pay_or_google_pay', 'verify_my_identity', 'country_support'],\n",
       "      dtype=object)"
      ]
     },
     "execution_count": 9,
     "metadata": {},
     "output_type": "execute_result"
    }
   ],
   "source": [
    "df['category'].unique()"
   ]
  },
  {
   "cell_type": "code",
   "execution_count": 12,
   "id": "46dd6ea4",
   "metadata": {},
   "outputs": [
    {
     "data": {
      "text/plain": [
       "77"
      ]
     },
     "execution_count": 12,
     "metadata": {},
     "output_type": "execute_result"
    }
   ],
   "source": [
    "len(df['category'].unique())"
   ]
  },
  {
   "cell_type": "code",
   "execution_count": 13,
   "id": "f3e7b22c",
   "metadata": {},
   "outputs": [
    {
     "name": "stdout",
     "output_type": "stream",
     "text": [
      "\n",
      "Successfully created a map for all 79 categories.\n"
     ]
    }
   ],
   "source": [
    "## Creationg Category map\n",
    "category_map = {\n",
    "    # === Billing Questions ===\n",
    "    'activate_my_card': 'Billing Question',\n",
    "    'card_payment_fee_charged': 'Billing Question',\n",
    "    'card_payment_not_recognised': 'Billing Question',\n",
    "    'card_payment_wrong_exchange_rate': 'Billing Question',\n",
    "    'cash_withdrawal_charge': 'Billing Question',\n",
    "    'cash_withdrawal_not_recognised': 'Billing Question',\n",
    "    'exchange_charge': 'Billing Question',\n",
    "    'exchange_rate': 'Billing Question',\n",
    "    'exchange_via_app': 'Billing Question',\n",
    "    'fee_applied': 'Billing Question',\n",
    "    'fiat_currency_support': 'Billing Question',\n",
    "    'pending_card_payment': 'Billing Question',\n",
    "    'pending_cash_withdrawal': 'Billing Question',\n",
    "    'pending_top_up': 'Billing Question',\n",
    "    'pending_transfer': 'Billing Question',\n",
    "    'top_up_by_bank_transfer_charge': 'Billing Question',\n",
    "    'top_up_by_card_charge': 'Billing Question',\n",
    "    'top_up_failed': 'Billing Question',\n",
    "    'top_up_limits': 'Billing Question',\n",
    "    'top_up_reverted': 'Billing Question',\n",
    "    'transaction_charged_twice': 'Billing Question',\n",
    "    'transfer_fee_charged': 'Billing Question',\n",
    "    'beneficiary_not_allowed': 'Billing Question',\n",
    "    'card_arrival': 'Billing Question',\n",
    "    'card_delivery_estimate': 'Billing Question',\n",
    "    'card_linking': 'Billing Question',\n",
    "    'card_not_working': 'Billing Question',\n",
    "    'decline_card_payment': 'Billing Question',\n",
    "    'declined_cash_withdrawal': 'Billing Question',\n",
    "    'declined_transfer': 'Billing Question',\n",
    "    'direct_debit_payment_not_recognised': 'Billing Question',\n",
    "    'failed_transfer': 'Billing Question',\n",
    "    'topping_up_by_card': 'Billing Question',\n",
    "    'transfer_not_received_by_recipient': 'Billing Question',\n",
    "    'transfer_timing': 'Billing Question',\n",
    "    'wrong_amount_of_cash_received': 'Billing Question',\n",
    "    'wrong_exchange_rate_for_cash_withdrawal': 'Billing Question',\n",
    "    'cancel_transfer': 'Billing Question',\n",
    "    'request_refund': 'Billing Question',\n",
    "\n",
    "    # === Technical Issues ===\n",
    "    'app_does_not_work': 'Technical Issue',\n",
    "    'face_id_not_working': 'Technical Issue',\n",
    "    'fingerprint_not_working': 'Technical Issue',\n",
    "    'passcode_forgotten': 'Technical Issue',\n",
    "    'pin_blocked': 'Technical Issue',\n",
    "    'unable_to_verify_identity': 'Technical Issue',\n",
    "    'verify_my_identity': 'Technical Issue',\n",
    "    'getting_physical_card': 'Technical Issue', # Can be argued, but often a process issue\n",
    "    \n",
    "    # === General Inquiry ===\n",
    "    'ATMs_support': 'General Inquiry',\n",
    "    'account_blocked': 'General Inquiry',\n",
    "    'age_limit': 'General Inquiry',\n",
    "    'apple_pay_or_google_pay': 'General Inquiry',\n",
    "    'atm_support': 'General Inquiry',\n",
    "    'automatic_top_up': 'General Inquiry',\n",
    "    'balance_not_updated_after_bank_transfer': 'General Inquiry',\n",
    "    'balance_not_updated_after_cheque_or_cash_deposit': 'General Inquiry',\n",
    "    'card_about_to_expire': 'General Inquiry',\n",
    "    'card_acceptance': 'General Inquiry',\n",
    "    'card_swallowed': 'General Inquiry',\n",
    "    'change_pin': 'General Inquiry',\n",
    "    'contactless_not_working': 'General Inquiry',\n",
    "    'country_support': 'General Inquiry',\n",
    "    'disposable_card_limits': 'General Inquiry',\n",
    "    'edit_personal_details': 'General Inquiry',\n",
    "    'get_disposable_virtual_card': 'General Inquiry',\n",
    "    'get_physical_card': 'General Inquiry',\n",
    "    'getting_spare_card': 'General Inquiry',\n",
    "    'how_do_I_report_fraud': 'General Inquiry',\n",
    "    'lost_or_stolen_card': 'General Inquiry',\n",
    "    'lost_or_stolen_phone': 'General Inquiry',\n",
    "    'order_physical_card': 'General Inquiry',\n",
    "    'supported_cards_and_currencies': 'General Inquiry',\n",
    "    'verify_source_of_funds': 'General Inquiry',\n",
    "    'verify_top_up': 'General Inquiry',\n",
    "    'virtual_card_not_working': 'General Inquiry',\n",
    "    'what_are_my_limits': 'General Inquiry',\n",
    "    'what_is_a_disposable_virtual_card': 'General Inquiry',\n",
    "    'what_is_my_pin': 'General Inquiry',\n",
    "    'why_verify_identity': 'General Inquiry',\n",
    "    'terminate_account': 'General Inquiry'\n",
    "}\n",
    "\n",
    "print(f\"\\nSuccessfully created a map for all {len(category_map)} categories.\")"
   ]
  },
  {
   "cell_type": "code",
   "execution_count": 15,
   "id": "98f05de9",
   "metadata": {},
   "outputs": [],
   "source": [
    "# Let's get the list of all original category names.\n",
    "original_labels = df['category'].unique()"
   ]
  },
  {
   "cell_type": "code",
   "execution_count": 18,
   "id": "eda93b12",
   "metadata": {},
   "outputs": [
    {
     "name": "stdout",
     "output_type": "stream",
     "text": [
      "['card_arrival' 'card_linking' 'exchange_rate'\n",
      " 'card_payment_wrong_exchange_rate' 'extra_charge_on_statement'\n",
      " 'pending_cash_withdrawal' 'fiat_currency_support'\n",
      " 'card_delivery_estimate' 'automatic_top_up' 'card_not_working'\n",
      " 'exchange_via_app' 'lost_or_stolen_card' 'age_limit' 'pin_blocked'\n",
      " 'contactless_not_working' 'top_up_by_bank_transfer_charge'\n",
      " 'pending_top_up' 'cancel_transfer' 'top_up_limits'\n",
      " 'wrong_amount_of_cash_received' 'card_payment_fee_charged'\n",
      " 'transfer_not_received_by_recipient' 'supported_cards_and_currencies'\n",
      " 'getting_virtual_card' 'card_acceptance' 'top_up_reverted'\n",
      " 'balance_not_updated_after_cheque_or_cash_deposit'\n",
      " 'card_payment_not_recognised' 'edit_personal_details'\n",
      " 'why_verify_identity' 'unable_to_verify_identity' 'get_physical_card'\n",
      " 'visa_or_mastercard' 'topping_up_by_card' 'disposable_card_limits'\n",
      " 'compromised_card' 'atm_support' 'direct_debit_payment_not_recognised'\n",
      " 'passcode_forgotten' 'declined_cash_withdrawal' 'pending_card_payment'\n",
      " 'lost_or_stolen_phone' 'request_refund' 'declined_transfer'\n",
      " 'Refund_not_showing_up' 'declined_card_payment' 'pending_transfer'\n",
      " 'terminate_account' 'card_swallowed' 'transaction_charged_twice'\n",
      " 'verify_source_of_funds' 'transfer_timing' 'reverted_card_payment?'\n",
      " 'change_pin' 'beneficiary_not_allowed' 'transfer_fee_charged'\n",
      " 'receiving_money' 'failed_transfer' 'transfer_into_account'\n",
      " 'verify_top_up' 'getting_spare_card' 'top_up_by_cash_or_cheque'\n",
      " 'order_physical_card' 'virtual_card_not_working'\n",
      " 'wrong_exchange_rate_for_cash_withdrawal' 'get_disposable_virtual_card'\n",
      " 'top_up_failed' 'balance_not_updated_after_bank_transfer'\n",
      " 'cash_withdrawal_not_recognised' 'exchange_charge'\n",
      " 'top_up_by_card_charge' 'activate_my_card' 'cash_withdrawal_charge'\n",
      " 'card_about_to_expire' 'apple_pay_or_google_pay' 'verify_my_identity'\n",
      " 'country_support']\n"
     ]
    },
    {
     "data": {
      "text/plain": [
       "77"
      ]
     },
     "execution_count": 18,
     "metadata": {},
     "output_type": "execute_result"
    }
   ],
   "source": [
    "print(original_labels)\n",
    "len(original_labels)"
   ]
  },
  {
   "cell_type": "code",
   "execution_count": 23,
   "id": "74cd29ad",
   "metadata": {},
   "outputs": [],
   "source": [
    "## Created a function to get new_label_name for the questions\n",
    "\n",
    "def get_new_label(label_name):\n",
    "        return category_map.get(label_name, \"Unmapped\")"
   ]
  },
  {
   "cell_type": "code",
   "execution_count": 26,
   "id": "fc33e7a1",
   "metadata": {},
   "outputs": [
    {
     "name": "stdout",
     "output_type": "stream",
     "text": [
      "                                                text      category  \\\n",
      "0                     I am still waiting on my card?  card_arrival   \n",
      "1  What can I do if my card still hasn't arrived ...  card_arrival   \n",
      "2  I have been waiting over a week. Is the card s...  card_arrival   \n",
      "3  Can I track my card while it is in the process...  card_arrival   \n",
      "4  How do I know if I will get my card, or if it ...  card_arrival   \n",
      "\n",
      "       new_category  \n",
      "0  Billing Question  \n",
      "1  Billing Question  \n",
      "2  Billing Question  \n",
      "3  Billing Question  \n",
      "4  Billing Question  \n"
     ]
    },
    {
     "data": {
      "text/plain": [
       "(13083, 3)"
      ]
     },
     "execution_count": 26,
     "metadata": {},
     "output_type": "execute_result"
    }
   ],
   "source": [
    "df['new_category'] = df['category'].apply(get_new_label)\n",
    "print(df.head())\n",
    "df.shape"
   ]
  },
  {
   "cell_type": "code",
   "execution_count": 27,
   "id": "3d82281f",
   "metadata": {},
   "outputs": [
    {
     "data": {
      "text/html": [
       "<div>\n",
       "<style scoped>\n",
       "    .dataframe tbody tr th:only-of-type {\n",
       "        vertical-align: middle;\n",
       "    }\n",
       "\n",
       "    .dataframe tbody tr th {\n",
       "        vertical-align: top;\n",
       "    }\n",
       "\n",
       "    .dataframe thead th {\n",
       "        text-align: right;\n",
       "    }\n",
       "</style>\n",
       "<table border=\"1\" class=\"dataframe\">\n",
       "  <thead>\n",
       "    <tr style=\"text-align: right;\">\n",
       "      <th></th>\n",
       "      <th>text</th>\n",
       "      <th>category</th>\n",
       "      <th>new_category</th>\n",
       "    </tr>\n",
       "  </thead>\n",
       "  <tbody>\n",
       "    <tr>\n",
       "      <th>0</th>\n",
       "      <td>I am still waiting on my card?</td>\n",
       "      <td>card_arrival</td>\n",
       "      <td>Billing Question</td>\n",
       "    </tr>\n",
       "    <tr>\n",
       "      <th>1</th>\n",
       "      <td>What can I do if my card still hasn't arrived ...</td>\n",
       "      <td>card_arrival</td>\n",
       "      <td>Billing Question</td>\n",
       "    </tr>\n",
       "    <tr>\n",
       "      <th>2</th>\n",
       "      <td>I have been waiting over a week. Is the card s...</td>\n",
       "      <td>card_arrival</td>\n",
       "      <td>Billing Question</td>\n",
       "    </tr>\n",
       "    <tr>\n",
       "      <th>3</th>\n",
       "      <td>Can I track my card while it is in the process...</td>\n",
       "      <td>card_arrival</td>\n",
       "      <td>Billing Question</td>\n",
       "    </tr>\n",
       "    <tr>\n",
       "      <th>4</th>\n",
       "      <td>How do I know if I will get my card, or if it ...</td>\n",
       "      <td>card_arrival</td>\n",
       "      <td>Billing Question</td>\n",
       "    </tr>\n",
       "  </tbody>\n",
       "</table>\n",
       "</div>"
      ],
      "text/plain": [
       "                                                text      category  \\\n",
       "0                     I am still waiting on my card?  card_arrival   \n",
       "1  What can I do if my card still hasn't arrived ...  card_arrival   \n",
       "2  I have been waiting over a week. Is the card s...  card_arrival   \n",
       "3  Can I track my card while it is in the process...  card_arrival   \n",
       "4  How do I know if I will get my card, or if it ...  card_arrival   \n",
       "\n",
       "       new_category  \n",
       "0  Billing Question  \n",
       "1  Billing Question  \n",
       "2  Billing Question  \n",
       "3  Billing Question  \n",
       "4  Billing Question  "
      ]
     },
     "execution_count": 27,
     "metadata": {},
     "output_type": "execute_result"
    }
   ],
   "source": [
    "df.head()"
   ]
  },
  {
   "cell_type": "code",
   "execution_count": 29,
   "id": "41d03517",
   "metadata": {},
   "outputs": [],
   "source": [
    "df.to_csv(\"dataset/updated.csv\",index=False)"
   ]
  }
 ],
 "metadata": {
  "kernelspec": {
   "display_name": "Python 3",
   "language": "python",
   "name": "python3"
  },
  "language_info": {
   "codemirror_mode": {
    "name": "ipython",
    "version": 3
   },
   "file_extension": ".py",
   "mimetype": "text/x-python",
   "name": "python",
   "nbconvert_exporter": "python",
   "pygments_lexer": "ipython3",
   "version": "3.10.0"
  }
 },
 "nbformat": 4,
 "nbformat_minor": 5
}
